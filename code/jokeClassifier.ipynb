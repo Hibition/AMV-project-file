{
 "cells": [
  {
   "cell_type": "code",
   "execution_count": 2,
   "metadata": {},
   "outputs": [
    {
     "data": {
      "application/vnd.jupyter.widget-view+json": {
       "model_id": "08ebdb0f30d44926b5f00f85d393a102",
       "version_major": 2,
       "version_minor": 0
      },
      "text/plain": [
       "config.json:   0%|          | 0.00/1.07k [00:00<?, ?B/s]"
      ]
     },
     "metadata": {},
     "output_type": "display_data"
    },
    {
     "data": {
      "application/vnd.jupyter.widget-view+json": {
       "model_id": "4180915080be453d8cafe02c0eb9efd9",
       "version_major": 2,
       "version_minor": 0
      },
      "text/plain": [
       "pytorch_model.bin:   0%|          | 0.00/499M [00:00<?, ?B/s]"
      ]
     },
     "metadata": {},
     "output_type": "display_data"
    },
    {
     "data": {
      "application/vnd.jupyter.widget-view+json": {
       "model_id": "0f4c83b800184ceb94aec38fc2f352d3",
       "version_major": 2,
       "version_minor": 0
      },
      "text/plain": [
       "tokenizer_config.json:   0%|          | 0.00/351 [00:00<?, ?B/s]"
      ]
     },
     "metadata": {},
     "output_type": "display_data"
    },
    {
     "data": {
      "application/vnd.jupyter.widget-view+json": {
       "model_id": "f7ccfa25cec6444ab6d6dcb872aa0200",
       "version_major": 2,
       "version_minor": 0
      },
      "text/plain": [
       "vocab.json:   0%|          | 0.00/798k [00:00<?, ?B/s]"
      ]
     },
     "metadata": {},
     "output_type": "display_data"
    },
    {
     "data": {
      "application/vnd.jupyter.widget-view+json": {
       "model_id": "1b06d7c1f3584617a533cb43808099eb",
       "version_major": 2,
       "version_minor": 0
      },
      "text/plain": [
       "merges.txt:   0%|          | 0.00/456k [00:00<?, ?B/s]"
      ]
     },
     "metadata": {},
     "output_type": "display_data"
    },
    {
     "data": {
      "application/vnd.jupyter.widget-view+json": {
       "model_id": "82e9a699b1544b0ea05241c18b3315c9",
       "version_major": 2,
       "version_minor": 0
      },
      "text/plain": [
       "tokenizer.json:   0%|          | 0.00/2.11M [00:00<?, ?B/s]"
      ]
     },
     "metadata": {},
     "output_type": "display_data"
    },
    {
     "data": {
      "application/vnd.jupyter.widget-view+json": {
       "model_id": "84adc7881e684c5b850513908f8f670a",
       "version_major": 2,
       "version_minor": 0
      },
      "text/plain": [
       "special_tokens_map.json:   0%|          | 0.00/280 [00:00<?, ?B/s]"
      ]
     },
     "metadata": {},
     "output_type": "display_data"
    },
    {
     "name": "stderr",
     "output_type": "stream",
     "text": [
      "Device set to use cuda:0\n"
     ]
    }
   ],
   "source": [
    "# Use a pipeline as a high-level helper\n",
    "from transformers import pipeline\n",
    "\n",
    "pipe = pipeline(\"text-classification\", model=\"mohameddhiab/rate-jokes-bert\")"
   ]
  },
  {
   "cell_type": "code",
   "execution_count": 9,
   "metadata": {},
   "outputs": [
    {
     "name": "stdout",
     "output_type": "stream",
     "text": [
      "[{'label': '5', 'score': 0.15491943061351776}]\n"
     ]
    }
   ],
   "source": [
    "# Example joke\n",
    "joke = \"I want to die peacefully in my sleep, like my grandfather.\"\n",
    "\n",
    "# Use the pipeline to classify the joke\n",
    "result = pipe(joke)\n",
    "\n",
    "# Output the classification result\n",
    "print(result)\n"
   ]
  },
  {
   "cell_type": "code",
   "execution_count": 7,
   "metadata": {},
   "outputs": [
    {
     "name": "stdout",
     "output_type": "stream",
     "text": [
      "What did the bartender say to the jumper cables? You better not try to start anything.\n",
      "[{'label': '5', 'score': 0.17391110956668854}]\n",
      "\n",
      "Don't you hate jokes about German sausage? They're the wurst!\n",
      "[{'label': '5', 'score': 0.1859990358352661}]\n",
      "\n",
      "Two artists had an art contest... It ended in a draw\n",
      "[{'label': '5', 'score': 0.1732080727815628}]\n",
      "\n",
      "Why did the chicken cross the playground? To get to the other slide.\n",
      "[{'label': '5', 'score': 0.23783576488494873}]\n",
      "\n",
      "What gun do you use to hunt a moose? A moosecut!\n",
      "[{'label': '5', 'score': 0.20439070463180542}]\n",
      "\n",
      "If life gives you melons, you might have dyslexia.\n",
      "[{'label': '5', 'score': 0.16645744442939758}]\n",
      "\n",
      "Broken pencils... ...are pointless.\n",
      "[{'label': '6', 'score': 0.15763388574123383}]\n",
      "\n",
      "What did one snowman say to the other snowman? 'Do you smell carrots?'\n",
      "[{'label': '5', 'score': 0.2716318666934967}]\n",
      "\n",
      "How many hipsters does it take to change a lightbulb? It's a really obscure number. You've probably never heard of it.\n",
      "[{'label': '5', 'score': 0.17764025926589966}]\n",
      "\n",
      "Where do sick boats go? The dock!\n",
      "[{'label': '5', 'score': 0.24304063618183136}]\n",
      "\n"
     ]
    }
   ],
   "source": [
    "import pandas as pd\n",
    "\n",
    "jokes = pd.read_csv(\"/home/scxzc2/project/jokGen/reddit-cleanjokes.csv\")\n",
    "\n",
    "for i in range(10):\n",
    "    joke = jokes.iloc[i,1]\n",
    "    print(joke)\n",
    "    \n",
    "    result = pipe(joke)\n",
    "    print(result)\n",
    "    \n",
    "    print()"
   ]
  }
 ],
 "metadata": {
  "kernelspec": {
   "display_name": "pytorch",
   "language": "python",
   "name": "python3"
  },
  "language_info": {
   "codemirror_mode": {
    "name": "ipython",
    "version": 3
   },
   "file_extension": ".py",
   "mimetype": "text/x-python",
   "name": "python",
   "nbconvert_exporter": "python",
   "pygments_lexer": "ipython3",
   "version": "3.9.20"
  }
 },
 "nbformat": 4,
 "nbformat_minor": 2
}
